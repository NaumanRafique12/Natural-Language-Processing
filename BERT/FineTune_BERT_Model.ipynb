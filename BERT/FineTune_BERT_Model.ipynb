{
  "nbformat": 4,
  "nbformat_minor": 0,
  "metadata": {
    "colab": {
      "provenance": []
    },
    "kernelspec": {
      "name": "python3",
      "display_name": "Python 3"
    },
    "language_info": {
      "name": "python"
    },
    "accelerator": "GPU",
    "gpuClass": "standard"
  },
  "cells": [
    {
      "cell_type": "code",
      "execution_count": 30,
      "metadata": {
        "id": "ImW5xLg5Ezyo"
      },
      "outputs": [],
      "source": [
        "# https://huggingface.co/transformers/v3.2.0/custom_datasets.html"
      ]
    },
    {
      "cell_type": "code",
      "source": [
        "!pip install transformers -U"
      ],
      "metadata": {
        "id": "l5ceeO9LhWkU",
        "colab": {
          "base_uri": "https://localhost:8080/"
        },
        "outputId": "4c908049-1873-4b83-dca3-4be0d18e6d2d"
      },
      "execution_count": 31,
      "outputs": [
        {
          "output_type": "stream",
          "name": "stdout",
          "text": [
            "Requirement already satisfied: transformers in /usr/local/lib/python3.10/dist-packages (4.31.0)\n",
            "Requirement already satisfied: filelock in /usr/local/lib/python3.10/dist-packages (from transformers) (3.12.2)\n",
            "Requirement already satisfied: huggingface-hub<1.0,>=0.14.1 in /usr/local/lib/python3.10/dist-packages (from transformers) (0.16.4)\n",
            "Requirement already satisfied: numpy>=1.17 in /usr/local/lib/python3.10/dist-packages (from transformers) (1.23.5)\n",
            "Requirement already satisfied: packaging>=20.0 in /usr/local/lib/python3.10/dist-packages (from transformers) (23.1)\n",
            "Requirement already satisfied: pyyaml>=5.1 in /usr/local/lib/python3.10/dist-packages (from transformers) (6.0.1)\n",
            "Requirement already satisfied: regex!=2019.12.17 in /usr/local/lib/python3.10/dist-packages (from transformers) (2022.10.31)\n",
            "Requirement already satisfied: requests in /usr/local/lib/python3.10/dist-packages (from transformers) (2.31.0)\n",
            "Requirement already satisfied: tokenizers!=0.11.3,<0.14,>=0.11.1 in /usr/local/lib/python3.10/dist-packages (from transformers) (0.13.3)\n",
            "Requirement already satisfied: safetensors>=0.3.1 in /usr/local/lib/python3.10/dist-packages (from transformers) (0.3.2)\n",
            "Requirement already satisfied: tqdm>=4.27 in /usr/local/lib/python3.10/dist-packages (from transformers) (4.65.0)\n",
            "Requirement already satisfied: fsspec in /usr/local/lib/python3.10/dist-packages (from huggingface-hub<1.0,>=0.14.1->transformers) (2023.6.0)\n",
            "Requirement already satisfied: typing-extensions>=3.7.4.3 in /usr/local/lib/python3.10/dist-packages (from huggingface-hub<1.0,>=0.14.1->transformers) (4.7.1)\n",
            "Requirement already satisfied: charset-normalizer<4,>=2 in /usr/local/lib/python3.10/dist-packages (from requests->transformers) (3.2.0)\n",
            "Requirement already satisfied: idna<4,>=2.5 in /usr/local/lib/python3.10/dist-packages (from requests->transformers) (3.4)\n",
            "Requirement already satisfied: urllib3<3,>=1.21.1 in /usr/local/lib/python3.10/dist-packages (from requests->transformers) (1.26.16)\n",
            "Requirement already satisfied: certifi>=2017.4.17 in /usr/local/lib/python3.10/dist-packages (from requests->transformers) (2023.7.22)\n"
          ]
        }
      ]
    },
    {
      "cell_type": "code",
      "source": [
        "import pandas as pd"
      ],
      "metadata": {
        "id": "8HNUE5fXIb-W"
      },
      "execution_count": 32,
      "outputs": []
    },
    {
      "cell_type": "code",
      "source": [
        "data = pd.read_csv(\"/content/Data.csv\",error_bad_lines=False, engine=\"python\")\n",
        "data.head()"
      ],
      "metadata": {
        "colab": {
          "base_uri": "https://localhost:8080/",
          "height": 392
        },
        "id": "ZLuKyvHJ47xK",
        "outputId": "957dd6f9-efee-4fd6-b3d0-53728f4e8036"
      },
      "execution_count": 33,
      "outputs": [
        {
          "output_type": "stream",
          "name": "stderr",
          "text": [
            "<ipython-input-33-1db0b1b8e99a>:1: FutureWarning: The error_bad_lines argument has been deprecated and will be removed in a future version. Use on_bad_lines in the future.\n",
            "\n",
            "\n",
            "  data = pd.read_csv(\"/content/Data.csv\",error_bad_lines=False, engine=\"python\")\n"
          ]
        },
        {
          "output_type": "execute_result",
          "data": {
            "text/plain": [
              "                 id                                       comment_text  toxic  \\\n",
              "0  0000997932d777bf  Explanation\\nWhy the edits made under my usern...      0   \n",
              "1  000103f0d9cfb60f  D'aww! He matches this background colour I'm s...      0   \n",
              "2  000113f07ec002fd  Hey man, I'm really not trying to edit war. It...      0   \n",
              "3  0001b41b1c6bb37e  \"\\nMore\\nI can't make any real suggestions on ...      0   \n",
              "4  0001d958c54c6e35  You, sir, are my hero. Any chance you remember...      0   \n",
              "\n",
              "   severe_toxic  obscene  threat  insult  identity_hate  \n",
              "0             0        0       0       0              0  \n",
              "1             0        0       0       0              0  \n",
              "2             0        0       0       0              0  \n",
              "3             0        0       0       0              0  \n",
              "4             0        0       0       0              0  "
            ],
            "text/html": [
              "\n",
              "\n",
              "  <div id=\"df-700bb615-e428-4ba4-87f4-a711fd15a927\">\n",
              "    <div class=\"colab-df-container\">\n",
              "      <div>\n",
              "<style scoped>\n",
              "    .dataframe tbody tr th:only-of-type {\n",
              "        vertical-align: middle;\n",
              "    }\n",
              "\n",
              "    .dataframe tbody tr th {\n",
              "        vertical-align: top;\n",
              "    }\n",
              "\n",
              "    .dataframe thead th {\n",
              "        text-align: right;\n",
              "    }\n",
              "</style>\n",
              "<table border=\"1\" class=\"dataframe\">\n",
              "  <thead>\n",
              "    <tr style=\"text-align: right;\">\n",
              "      <th></th>\n",
              "      <th>id</th>\n",
              "      <th>comment_text</th>\n",
              "      <th>toxic</th>\n",
              "      <th>severe_toxic</th>\n",
              "      <th>obscene</th>\n",
              "      <th>threat</th>\n",
              "      <th>insult</th>\n",
              "      <th>identity_hate</th>\n",
              "    </tr>\n",
              "  </thead>\n",
              "  <tbody>\n",
              "    <tr>\n",
              "      <th>0</th>\n",
              "      <td>0000997932d777bf</td>\n",
              "      <td>Explanation\\nWhy the edits made under my usern...</td>\n",
              "      <td>0</td>\n",
              "      <td>0</td>\n",
              "      <td>0</td>\n",
              "      <td>0</td>\n",
              "      <td>0</td>\n",
              "      <td>0</td>\n",
              "    </tr>\n",
              "    <tr>\n",
              "      <th>1</th>\n",
              "      <td>000103f0d9cfb60f</td>\n",
              "      <td>D'aww! He matches this background colour I'm s...</td>\n",
              "      <td>0</td>\n",
              "      <td>0</td>\n",
              "      <td>0</td>\n",
              "      <td>0</td>\n",
              "      <td>0</td>\n",
              "      <td>0</td>\n",
              "    </tr>\n",
              "    <tr>\n",
              "      <th>2</th>\n",
              "      <td>000113f07ec002fd</td>\n",
              "      <td>Hey man, I'm really not trying to edit war. It...</td>\n",
              "      <td>0</td>\n",
              "      <td>0</td>\n",
              "      <td>0</td>\n",
              "      <td>0</td>\n",
              "      <td>0</td>\n",
              "      <td>0</td>\n",
              "    </tr>\n",
              "    <tr>\n",
              "      <th>3</th>\n",
              "      <td>0001b41b1c6bb37e</td>\n",
              "      <td>\"\\nMore\\nI can't make any real suggestions on ...</td>\n",
              "      <td>0</td>\n",
              "      <td>0</td>\n",
              "      <td>0</td>\n",
              "      <td>0</td>\n",
              "      <td>0</td>\n",
              "      <td>0</td>\n",
              "    </tr>\n",
              "    <tr>\n",
              "      <th>4</th>\n",
              "      <td>0001d958c54c6e35</td>\n",
              "      <td>You, sir, are my hero. Any chance you remember...</td>\n",
              "      <td>0</td>\n",
              "      <td>0</td>\n",
              "      <td>0</td>\n",
              "      <td>0</td>\n",
              "      <td>0</td>\n",
              "      <td>0</td>\n",
              "    </tr>\n",
              "  </tbody>\n",
              "</table>\n",
              "</div>\n",
              "      <button class=\"colab-df-convert\" onclick=\"convertToInteractive('df-700bb615-e428-4ba4-87f4-a711fd15a927')\"\n",
              "              title=\"Convert this dataframe to an interactive table.\"\n",
              "              style=\"display:none;\">\n",
              "\n",
              "  <svg xmlns=\"http://www.w3.org/2000/svg\" height=\"24px\"viewBox=\"0 0 24 24\"\n",
              "       width=\"24px\">\n",
              "    <path d=\"M0 0h24v24H0V0z\" fill=\"none\"/>\n",
              "    <path d=\"M18.56 5.44l.94 2.06.94-2.06 2.06-.94-2.06-.94-.94-2.06-.94 2.06-2.06.94zm-11 1L8.5 8.5l.94-2.06 2.06-.94-2.06-.94L8.5 2.5l-.94 2.06-2.06.94zm10 10l.94 2.06.94-2.06 2.06-.94-2.06-.94-.94-2.06-.94 2.06-2.06.94z\"/><path d=\"M17.41 7.96l-1.37-1.37c-.4-.4-.92-.59-1.43-.59-.52 0-1.04.2-1.43.59L10.3 9.45l-7.72 7.72c-.78.78-.78 2.05 0 2.83L4 21.41c.39.39.9.59 1.41.59.51 0 1.02-.2 1.41-.59l7.78-7.78 2.81-2.81c.8-.78.8-2.07 0-2.86zM5.41 20L4 18.59l7.72-7.72 1.47 1.35L5.41 20z\"/>\n",
              "  </svg>\n",
              "      </button>\n",
              "\n",
              "\n",
              "\n",
              "    <div id=\"df-e9f6ee49-c527-440a-aad7-75e20731f022\">\n",
              "      <button class=\"colab-df-quickchart\" onclick=\"quickchart('df-e9f6ee49-c527-440a-aad7-75e20731f022')\"\n",
              "              title=\"Suggest charts.\"\n",
              "              style=\"display:none;\">\n",
              "\n",
              "<svg xmlns=\"http://www.w3.org/2000/svg\" height=\"24px\"viewBox=\"0 0 24 24\"\n",
              "     width=\"24px\">\n",
              "    <g>\n",
              "        <path d=\"M19 3H5c-1.1 0-2 .9-2 2v14c0 1.1.9 2 2 2h14c1.1 0 2-.9 2-2V5c0-1.1-.9-2-2-2zM9 17H7v-7h2v7zm4 0h-2V7h2v10zm4 0h-2v-4h2v4z\"/>\n",
              "    </g>\n",
              "</svg>\n",
              "      </button>\n",
              "    </div>\n",
              "\n",
              "<style>\n",
              "  .colab-df-quickchart {\n",
              "    background-color: #E8F0FE;\n",
              "    border: none;\n",
              "    border-radius: 50%;\n",
              "    cursor: pointer;\n",
              "    display: none;\n",
              "    fill: #1967D2;\n",
              "    height: 32px;\n",
              "    padding: 0 0 0 0;\n",
              "    width: 32px;\n",
              "  }\n",
              "\n",
              "  .colab-df-quickchart:hover {\n",
              "    background-color: #E2EBFA;\n",
              "    box-shadow: 0px 1px 2px rgba(60, 64, 67, 0.3), 0px 1px 3px 1px rgba(60, 64, 67, 0.15);\n",
              "    fill: #174EA6;\n",
              "  }\n",
              "\n",
              "  [theme=dark] .colab-df-quickchart {\n",
              "    background-color: #3B4455;\n",
              "    fill: #D2E3FC;\n",
              "  }\n",
              "\n",
              "  [theme=dark] .colab-df-quickchart:hover {\n",
              "    background-color: #434B5C;\n",
              "    box-shadow: 0px 1px 3px 1px rgba(0, 0, 0, 0.15);\n",
              "    filter: drop-shadow(0px 1px 2px rgba(0, 0, 0, 0.3));\n",
              "    fill: #FFFFFF;\n",
              "  }\n",
              "</style>\n",
              "\n",
              "    <script>\n",
              "      async function quickchart(key) {\n",
              "        const containerElement = document.querySelector('#' + key);\n",
              "        const charts = await google.colab.kernel.invokeFunction(\n",
              "            'suggestCharts', [key], {});\n",
              "      }\n",
              "    </script>\n",
              "\n",
              "      <script>\n",
              "\n",
              "function displayQuickchartButton(domScope) {\n",
              "  let quickchartButtonEl =\n",
              "    domScope.querySelector('#df-e9f6ee49-c527-440a-aad7-75e20731f022 button.colab-df-quickchart');\n",
              "  quickchartButtonEl.style.display =\n",
              "    google.colab.kernel.accessAllowed ? 'block' : 'none';\n",
              "}\n",
              "\n",
              "        displayQuickchartButton(document);\n",
              "      </script>\n",
              "      <style>\n",
              "    .colab-df-container {\n",
              "      display:flex;\n",
              "      flex-wrap:wrap;\n",
              "      gap: 12px;\n",
              "    }\n",
              "\n",
              "    .colab-df-convert {\n",
              "      background-color: #E8F0FE;\n",
              "      border: none;\n",
              "      border-radius: 50%;\n",
              "      cursor: pointer;\n",
              "      display: none;\n",
              "      fill: #1967D2;\n",
              "      height: 32px;\n",
              "      padding: 0 0 0 0;\n",
              "      width: 32px;\n",
              "    }\n",
              "\n",
              "    .colab-df-convert:hover {\n",
              "      background-color: #E2EBFA;\n",
              "      box-shadow: 0px 1px 2px rgba(60, 64, 67, 0.3), 0px 1px 3px 1px rgba(60, 64, 67, 0.15);\n",
              "      fill: #174EA6;\n",
              "    }\n",
              "\n",
              "    [theme=dark] .colab-df-convert {\n",
              "      background-color: #3B4455;\n",
              "      fill: #D2E3FC;\n",
              "    }\n",
              "\n",
              "    [theme=dark] .colab-df-convert:hover {\n",
              "      background-color: #434B5C;\n",
              "      box-shadow: 0px 1px 3px 1px rgba(0, 0, 0, 0.15);\n",
              "      filter: drop-shadow(0px 1px 2px rgba(0, 0, 0, 0.3));\n",
              "      fill: #FFFFFF;\n",
              "    }\n",
              "  </style>\n",
              "\n",
              "      <script>\n",
              "        const buttonEl =\n",
              "          document.querySelector('#df-700bb615-e428-4ba4-87f4-a711fd15a927 button.colab-df-convert');\n",
              "        buttonEl.style.display =\n",
              "          google.colab.kernel.accessAllowed ? 'block' : 'none';\n",
              "\n",
              "        async function convertToInteractive(key) {\n",
              "          const element = document.querySelector('#df-700bb615-e428-4ba4-87f4-a711fd15a927');\n",
              "          const dataTable =\n",
              "            await google.colab.kernel.invokeFunction('convertToInteractive',\n",
              "                                                     [key], {});\n",
              "          if (!dataTable) return;\n",
              "\n",
              "          const docLinkHtml = 'Like what you see? Visit the ' +\n",
              "            '<a target=\"_blank\" href=https://colab.research.google.com/notebooks/data_table.ipynb>data table notebook</a>'\n",
              "            + ' to learn more about interactive tables.';\n",
              "          element.innerHTML = '';\n",
              "          dataTable['output_type'] = 'display_data';\n",
              "          await google.colab.output.renderOutput(dataTable, element);\n",
              "          const docLink = document.createElement('div');\n",
              "          docLink.innerHTML = docLinkHtml;\n",
              "          element.appendChild(docLink);\n",
              "        }\n",
              "      </script>\n",
              "    </div>\n",
              "  </div>\n"
            ]
          },
          "metadata": {},
          "execution_count": 33
        }
      ]
    },
    {
      "cell_type": "code",
      "source": [
        "data['toxic'].value_counts()"
      ],
      "metadata": {
        "colab": {
          "base_uri": "https://localhost:8080/"
        },
        "id": "5dbrirLG5D0A",
        "outputId": "c0eca8cd-f4ec-4b74-f80c-6c8edf00b29d"
      },
      "execution_count": 34,
      "outputs": [
        {
          "output_type": "execute_result",
          "data": {
            "text/plain": [
              "0    144277\n",
              "1     15294\n",
              "Name: toxic, dtype: int64"
            ]
          },
          "metadata": {},
          "execution_count": 34
        }
      ]
    },
    {
      "cell_type": "code",
      "source": [
        "data = data[['comment_text','toxic']]\n",
        "data = data[0:1000]\n",
        "data.head()"
      ],
      "metadata": {
        "colab": {
          "base_uri": "https://localhost:8080/",
          "height": 206
        },
        "id": "U2HyJRvG5trP",
        "outputId": "0a32c7cc-9286-47d7-d7fd-bc1a407ed103"
      },
      "execution_count": 35,
      "outputs": [
        {
          "output_type": "execute_result",
          "data": {
            "text/plain": [
              "                                        comment_text  toxic\n",
              "0  Explanation\\nWhy the edits made under my usern...      0\n",
              "1  D'aww! He matches this background colour I'm s...      0\n",
              "2  Hey man, I'm really not trying to edit war. It...      0\n",
              "3  \"\\nMore\\nI can't make any real suggestions on ...      0\n",
              "4  You, sir, are my hero. Any chance you remember...      0"
            ],
            "text/html": [
              "\n",
              "\n",
              "  <div id=\"df-a92df1d8-5b09-4284-9c18-054de99b42f4\">\n",
              "    <div class=\"colab-df-container\">\n",
              "      <div>\n",
              "<style scoped>\n",
              "    .dataframe tbody tr th:only-of-type {\n",
              "        vertical-align: middle;\n",
              "    }\n",
              "\n",
              "    .dataframe tbody tr th {\n",
              "        vertical-align: top;\n",
              "    }\n",
              "\n",
              "    .dataframe thead th {\n",
              "        text-align: right;\n",
              "    }\n",
              "</style>\n",
              "<table border=\"1\" class=\"dataframe\">\n",
              "  <thead>\n",
              "    <tr style=\"text-align: right;\">\n",
              "      <th></th>\n",
              "      <th>comment_text</th>\n",
              "      <th>toxic</th>\n",
              "    </tr>\n",
              "  </thead>\n",
              "  <tbody>\n",
              "    <tr>\n",
              "      <th>0</th>\n",
              "      <td>Explanation\\nWhy the edits made under my usern...</td>\n",
              "      <td>0</td>\n",
              "    </tr>\n",
              "    <tr>\n",
              "      <th>1</th>\n",
              "      <td>D'aww! He matches this background colour I'm s...</td>\n",
              "      <td>0</td>\n",
              "    </tr>\n",
              "    <tr>\n",
              "      <th>2</th>\n",
              "      <td>Hey man, I'm really not trying to edit war. It...</td>\n",
              "      <td>0</td>\n",
              "    </tr>\n",
              "    <tr>\n",
              "      <th>3</th>\n",
              "      <td>\"\\nMore\\nI can't make any real suggestions on ...</td>\n",
              "      <td>0</td>\n",
              "    </tr>\n",
              "    <tr>\n",
              "      <th>4</th>\n",
              "      <td>You, sir, are my hero. Any chance you remember...</td>\n",
              "      <td>0</td>\n",
              "    </tr>\n",
              "  </tbody>\n",
              "</table>\n",
              "</div>\n",
              "      <button class=\"colab-df-convert\" onclick=\"convertToInteractive('df-a92df1d8-5b09-4284-9c18-054de99b42f4')\"\n",
              "              title=\"Convert this dataframe to an interactive table.\"\n",
              "              style=\"display:none;\">\n",
              "\n",
              "  <svg xmlns=\"http://www.w3.org/2000/svg\" height=\"24px\"viewBox=\"0 0 24 24\"\n",
              "       width=\"24px\">\n",
              "    <path d=\"M0 0h24v24H0V0z\" fill=\"none\"/>\n",
              "    <path d=\"M18.56 5.44l.94 2.06.94-2.06 2.06-.94-2.06-.94-.94-2.06-.94 2.06-2.06.94zm-11 1L8.5 8.5l.94-2.06 2.06-.94-2.06-.94L8.5 2.5l-.94 2.06-2.06.94zm10 10l.94 2.06.94-2.06 2.06-.94-2.06-.94-.94-2.06-.94 2.06-2.06.94z\"/><path d=\"M17.41 7.96l-1.37-1.37c-.4-.4-.92-.59-1.43-.59-.52 0-1.04.2-1.43.59L10.3 9.45l-7.72 7.72c-.78.78-.78 2.05 0 2.83L4 21.41c.39.39.9.59 1.41.59.51 0 1.02-.2 1.41-.59l7.78-7.78 2.81-2.81c.8-.78.8-2.07 0-2.86zM5.41 20L4 18.59l7.72-7.72 1.47 1.35L5.41 20z\"/>\n",
              "  </svg>\n",
              "      </button>\n",
              "\n",
              "\n",
              "\n",
              "    <div id=\"df-bfff1353-a73e-49ba-b03a-ee451a3a3606\">\n",
              "      <button class=\"colab-df-quickchart\" onclick=\"quickchart('df-bfff1353-a73e-49ba-b03a-ee451a3a3606')\"\n",
              "              title=\"Suggest charts.\"\n",
              "              style=\"display:none;\">\n",
              "\n",
              "<svg xmlns=\"http://www.w3.org/2000/svg\" height=\"24px\"viewBox=\"0 0 24 24\"\n",
              "     width=\"24px\">\n",
              "    <g>\n",
              "        <path d=\"M19 3H5c-1.1 0-2 .9-2 2v14c0 1.1.9 2 2 2h14c1.1 0 2-.9 2-2V5c0-1.1-.9-2-2-2zM9 17H7v-7h2v7zm4 0h-2V7h2v10zm4 0h-2v-4h2v4z\"/>\n",
              "    </g>\n",
              "</svg>\n",
              "      </button>\n",
              "    </div>\n",
              "\n",
              "<style>\n",
              "  .colab-df-quickchart {\n",
              "    background-color: #E8F0FE;\n",
              "    border: none;\n",
              "    border-radius: 50%;\n",
              "    cursor: pointer;\n",
              "    display: none;\n",
              "    fill: #1967D2;\n",
              "    height: 32px;\n",
              "    padding: 0 0 0 0;\n",
              "    width: 32px;\n",
              "  }\n",
              "\n",
              "  .colab-df-quickchart:hover {\n",
              "    background-color: #E2EBFA;\n",
              "    box-shadow: 0px 1px 2px rgba(60, 64, 67, 0.3), 0px 1px 3px 1px rgba(60, 64, 67, 0.15);\n",
              "    fill: #174EA6;\n",
              "  }\n",
              "\n",
              "  [theme=dark] .colab-df-quickchart {\n",
              "    background-color: #3B4455;\n",
              "    fill: #D2E3FC;\n",
              "  }\n",
              "\n",
              "  [theme=dark] .colab-df-quickchart:hover {\n",
              "    background-color: #434B5C;\n",
              "    box-shadow: 0px 1px 3px 1px rgba(0, 0, 0, 0.15);\n",
              "    filter: drop-shadow(0px 1px 2px rgba(0, 0, 0, 0.3));\n",
              "    fill: #FFFFFF;\n",
              "  }\n",
              "</style>\n",
              "\n",
              "    <script>\n",
              "      async function quickchart(key) {\n",
              "        const containerElement = document.querySelector('#' + key);\n",
              "        const charts = await google.colab.kernel.invokeFunction(\n",
              "            'suggestCharts', [key], {});\n",
              "      }\n",
              "    </script>\n",
              "\n",
              "      <script>\n",
              "\n",
              "function displayQuickchartButton(domScope) {\n",
              "  let quickchartButtonEl =\n",
              "    domScope.querySelector('#df-bfff1353-a73e-49ba-b03a-ee451a3a3606 button.colab-df-quickchart');\n",
              "  quickchartButtonEl.style.display =\n",
              "    google.colab.kernel.accessAllowed ? 'block' : 'none';\n",
              "}\n",
              "\n",
              "        displayQuickchartButton(document);\n",
              "      </script>\n",
              "      <style>\n",
              "    .colab-df-container {\n",
              "      display:flex;\n",
              "      flex-wrap:wrap;\n",
              "      gap: 12px;\n",
              "    }\n",
              "\n",
              "    .colab-df-convert {\n",
              "      background-color: #E8F0FE;\n",
              "      border: none;\n",
              "      border-radius: 50%;\n",
              "      cursor: pointer;\n",
              "      display: none;\n",
              "      fill: #1967D2;\n",
              "      height: 32px;\n",
              "      padding: 0 0 0 0;\n",
              "      width: 32px;\n",
              "    }\n",
              "\n",
              "    .colab-df-convert:hover {\n",
              "      background-color: #E2EBFA;\n",
              "      box-shadow: 0px 1px 2px rgba(60, 64, 67, 0.3), 0px 1px 3px 1px rgba(60, 64, 67, 0.15);\n",
              "      fill: #174EA6;\n",
              "    }\n",
              "\n",
              "    [theme=dark] .colab-df-convert {\n",
              "      background-color: #3B4455;\n",
              "      fill: #D2E3FC;\n",
              "    }\n",
              "\n",
              "    [theme=dark] .colab-df-convert:hover {\n",
              "      background-color: #434B5C;\n",
              "      box-shadow: 0px 1px 3px 1px rgba(0, 0, 0, 0.15);\n",
              "      filter: drop-shadow(0px 1px 2px rgba(0, 0, 0, 0.3));\n",
              "      fill: #FFFFFF;\n",
              "    }\n",
              "  </style>\n",
              "\n",
              "      <script>\n",
              "        const buttonEl =\n",
              "          document.querySelector('#df-a92df1d8-5b09-4284-9c18-054de99b42f4 button.colab-df-convert');\n",
              "        buttonEl.style.display =\n",
              "          google.colab.kernel.accessAllowed ? 'block' : 'none';\n",
              "\n",
              "        async function convertToInteractive(key) {\n",
              "          const element = document.querySelector('#df-a92df1d8-5b09-4284-9c18-054de99b42f4');\n",
              "          const dataTable =\n",
              "            await google.colab.kernel.invokeFunction('convertToInteractive',\n",
              "                                                     [key], {});\n",
              "          if (!dataTable) return;\n",
              "\n",
              "          const docLinkHtml = 'Like what you see? Visit the ' +\n",
              "            '<a target=\"_blank\" href=https://colab.research.google.com/notebooks/data_table.ipynb>data table notebook</a>'\n",
              "            + ' to learn more about interactive tables.';\n",
              "          element.innerHTML = '';\n",
              "          dataTable['output_type'] = 'display_data';\n",
              "          await google.colab.output.renderOutput(dataTable, element);\n",
              "          const docLink = document.createElement('div');\n",
              "          docLink.innerHTML = docLinkHtml;\n",
              "          element.appendChild(docLink);\n",
              "        }\n",
              "      </script>\n",
              "    </div>\n",
              "  </div>\n"
            ]
          },
          "metadata": {},
          "execution_count": 35
        }
      ]
    },
    {
      "cell_type": "code",
      "source": [
        "import numpy as np\n",
        "from sklearn.model_selection import train_test_split\n",
        "from sklearn.metrics import accuracy_score, recall_score, precision_score, f1_score\n",
        "import torch\n",
        "from transformers import TrainingArguments, Trainer\n",
        "from transformers import BertTokenizer, BertForSequenceClassification"
      ],
      "metadata": {
        "id": "s32nl2kn56cH"
      },
      "execution_count": 36,
      "outputs": []
    },
    {
      "cell_type": "markdown",
      "source": [
        "**Loading the Tokenizer and Classifier(Model)**"
      ],
      "metadata": {
        "id": "Xc3VtEHTy7GE"
      }
    },
    {
      "cell_type": "code",
      "source": [
        "from transformers import BertTokenizer, BertForSequenceClassification\n",
        "tokenizer = BertTokenizer.from_pretrained('bert-base-uncased')\n",
        "model = BertForSequenceClassification.from_pretrained('bert-base-uncased',num_labels=2)"
      ],
      "metadata": {
        "colab": {
          "base_uri": "https://localhost:8080/"
        },
        "id": "Z1JlB3eYiV8a",
        "outputId": "3d0c84dd-4779-4c3f-9125-c70ebbfd4375"
      },
      "execution_count": 37,
      "outputs": [
        {
          "output_type": "stream",
          "name": "stderr",
          "text": [
            "Some weights of BertForSequenceClassification were not initialized from the model checkpoint at bert-base-uncased and are newly initialized: ['classifier.weight', 'classifier.bias']\n",
            "You should probably TRAIN this model on a down-stream task to be able to use it for predictions and inference.\n"
          ]
        }
      ]
    },
    {
      "cell_type": "code",
      "source": [
        "model"
      ],
      "metadata": {
        "id": "WPKswImmYUjO",
        "colab": {
          "base_uri": "https://localhost:8080/"
        },
        "outputId": "53a8f226-86d4-4426-849d-b2a7c14d122c"
      },
      "execution_count": 38,
      "outputs": [
        {
          "output_type": "execute_result",
          "data": {
            "text/plain": [
              "BertForSequenceClassification(\n",
              "  (bert): BertModel(\n",
              "    (embeddings): BertEmbeddings(\n",
              "      (word_embeddings): Embedding(30522, 768, padding_idx=0)\n",
              "      (position_embeddings): Embedding(512, 768)\n",
              "      (token_type_embeddings): Embedding(2, 768)\n",
              "      (LayerNorm): LayerNorm((768,), eps=1e-12, elementwise_affine=True)\n",
              "      (dropout): Dropout(p=0.1, inplace=False)\n",
              "    )\n",
              "    (encoder): BertEncoder(\n",
              "      (layer): ModuleList(\n",
              "        (0-11): 12 x BertLayer(\n",
              "          (attention): BertAttention(\n",
              "            (self): BertSelfAttention(\n",
              "              (query): Linear(in_features=768, out_features=768, bias=True)\n",
              "              (key): Linear(in_features=768, out_features=768, bias=True)\n",
              "              (value): Linear(in_features=768, out_features=768, bias=True)\n",
              "              (dropout): Dropout(p=0.1, inplace=False)\n",
              "            )\n",
              "            (output): BertSelfOutput(\n",
              "              (dense): Linear(in_features=768, out_features=768, bias=True)\n",
              "              (LayerNorm): LayerNorm((768,), eps=1e-12, elementwise_affine=True)\n",
              "              (dropout): Dropout(p=0.1, inplace=False)\n",
              "            )\n",
              "          )\n",
              "          (intermediate): BertIntermediate(\n",
              "            (dense): Linear(in_features=768, out_features=3072, bias=True)\n",
              "            (intermediate_act_fn): GELUActivation()\n",
              "          )\n",
              "          (output): BertOutput(\n",
              "            (dense): Linear(in_features=3072, out_features=768, bias=True)\n",
              "            (LayerNorm): LayerNorm((768,), eps=1e-12, elementwise_affine=True)\n",
              "            (dropout): Dropout(p=0.1, inplace=False)\n",
              "          )\n",
              "        )\n",
              "      )\n",
              "    )\n",
              "    (pooler): BertPooler(\n",
              "      (dense): Linear(in_features=768, out_features=768, bias=True)\n",
              "      (activation): Tanh()\n",
              "    )\n",
              "  )\n",
              "  (dropout): Dropout(p=0.1, inplace=False)\n",
              "  (classifier): Linear(in_features=768, out_features=2, bias=True)\n",
              ")"
            ]
          },
          "metadata": {},
          "execution_count": 38
        }
      ]
    },
    {
      "cell_type": "markdown",
      "source": [
        "Using GPU that's"
      ],
      "metadata": {
        "id": "dNE87650zDXg"
      }
    },
    {
      "cell_type": "code",
      "source": [
        "model = model.to('cuda')"
      ],
      "metadata": {
        "id": "nCIO165RiZfC"
      },
      "execution_count": 39,
      "outputs": []
    },
    {
      "cell_type": "code",
      "source": [
        "sample_data = [\"I am eating\",\"I am playing \"]\n",
        "tokenizer(sample_data, padding=True, truncation=True, max_length=512)"
      ],
      "metadata": {
        "colab": {
          "base_uri": "https://localhost:8080/"
        },
        "id": "tESWTOfVHEqA",
        "outputId": "77605f13-6c9b-453f-f569-2053d165435a"
      },
      "execution_count": 40,
      "outputs": [
        {
          "output_type": "execute_result",
          "data": {
            "text/plain": [
              "{'input_ids': [[101, 1045, 2572, 5983, 102], [101, 1045, 2572, 2652, 102]], 'token_type_ids': [[0, 0, 0, 0, 0], [0, 0, 0, 0, 0]], 'attention_mask': [[1, 1, 1, 1, 1], [1, 1, 1, 1, 1]]}"
            ]
          },
          "metadata": {},
          "execution_count": 40
        }
      ]
    },
    {
      "cell_type": "markdown",
      "source": [
        "Input_Ids is our actual Embeddings and Attention mask is value 0 or 1 .0 mean it is padding and 1 mean word is present"
      ],
      "metadata": {
        "id": "VOIWP7e0zHF-"
      }
    },
    {
      "cell_type": "markdown",
      "source": [
        "**Tokenization**"
      ],
      "metadata": {
        "id": "5NjdXLTGzUOl"
      }
    },
    {
      "cell_type": "code",
      "source": [
        "X = list(data[\"comment_text\"])\n",
        "y = list(data[\"toxic\"])\n",
        "X_train, X_val, y_train, y_val = train_test_split(X, y, test_size=0.2,stratify=y)\n",
        "X_train_tokenized = tokenizer(X_train, padding=True, truncation=True, max_length=512)\n",
        "X_val_tokenized = tokenizer(X_val, padding=True, truncation=True, max_length=512)"
      ],
      "metadata": {
        "id": "WyWcZBQuid2V"
      },
      "execution_count": 41,
      "outputs": []
    },
    {
      "cell_type": "code",
      "source": [
        "X_train_tokenized.keys()"
      ],
      "metadata": {
        "colab": {
          "base_uri": "https://localhost:8080/"
        },
        "id": "Ll_YffE1rrKV",
        "outputId": "9a618ad4-5a5e-41be-b7b0-06e261d109f6"
      },
      "execution_count": 42,
      "outputs": [
        {
          "output_type": "execute_result",
          "data": {
            "text/plain": [
              "dict_keys(['input_ids', 'token_type_ids', 'attention_mask'])"
            ]
          },
          "metadata": {},
          "execution_count": 42
        }
      ]
    },
    {
      "cell_type": "code",
      "source": [
        "print(X_train_tokenized['attention_mask'][0])"
      ],
      "metadata": {
        "colab": {
          "base_uri": "https://localhost:8080/"
        },
        "id": "O5TGibGZIAZT",
        "outputId": "65b619ee-3a9d-4dbb-c9ba-afa5cac7bba9"
      },
      "execution_count": 43,
      "outputs": [
        {
          "output_type": "stream",
          "name": "stdout",
          "text": [
            "[1, 1, 1, 1, 1, 1, 1, 1, 1, 1, 1, 1, 1, 1, 1, 1, 1, 1, 1, 1, 1, 1, 1, 1, 1, 1, 1, 1, 1, 1, 1, 1, 1, 1, 1, 1, 1, 1, 1, 1, 1, 1, 1, 1, 0, 0, 0, 0, 0, 0, 0, 0, 0, 0, 0, 0, 0, 0, 0, 0, 0, 0, 0, 0, 0, 0, 0, 0, 0, 0, 0, 0, 0, 0, 0, 0, 0, 0, 0, 0, 0, 0, 0, 0, 0, 0, 0, 0, 0, 0, 0, 0, 0, 0, 0, 0, 0, 0, 0, 0, 0, 0, 0, 0, 0, 0, 0, 0, 0, 0, 0, 0, 0, 0, 0, 0, 0, 0, 0, 0, 0, 0, 0, 0, 0, 0, 0, 0, 0, 0, 0, 0, 0, 0, 0, 0, 0, 0, 0, 0, 0, 0, 0, 0, 0, 0, 0, 0, 0, 0, 0, 0, 0, 0, 0, 0, 0, 0, 0, 0, 0, 0, 0, 0, 0, 0, 0, 0, 0, 0, 0, 0, 0, 0, 0, 0, 0, 0, 0, 0, 0, 0, 0, 0, 0, 0, 0, 0, 0, 0, 0, 0, 0, 0, 0, 0, 0, 0, 0, 0, 0, 0, 0, 0, 0, 0, 0, 0, 0, 0, 0, 0, 0, 0, 0, 0, 0, 0, 0, 0, 0, 0, 0, 0, 0, 0, 0, 0, 0, 0, 0, 0, 0, 0, 0, 0, 0, 0, 0, 0, 0, 0, 0, 0, 0, 0, 0, 0, 0, 0, 0, 0, 0, 0, 0, 0, 0, 0, 0, 0, 0, 0, 0, 0, 0, 0, 0, 0, 0, 0, 0, 0, 0, 0, 0, 0, 0, 0, 0, 0, 0, 0, 0, 0, 0, 0, 0, 0, 0, 0, 0, 0, 0, 0, 0, 0, 0, 0, 0, 0, 0, 0, 0, 0, 0, 0, 0, 0, 0, 0, 0, 0, 0, 0, 0, 0, 0, 0, 0, 0, 0, 0, 0, 0, 0, 0, 0, 0, 0, 0, 0, 0, 0, 0, 0, 0, 0, 0, 0, 0, 0, 0, 0, 0, 0, 0, 0, 0, 0, 0, 0, 0, 0, 0, 0, 0, 0, 0, 0, 0, 0, 0, 0, 0, 0, 0, 0, 0, 0, 0, 0, 0, 0, 0, 0, 0, 0, 0, 0, 0, 0, 0, 0, 0, 0, 0, 0, 0, 0, 0, 0, 0, 0, 0, 0, 0, 0, 0, 0, 0, 0, 0, 0, 0, 0, 0, 0, 0, 0, 0, 0, 0, 0, 0, 0, 0, 0, 0, 0, 0, 0, 0, 0, 0, 0, 0, 0, 0, 0, 0, 0, 0, 0, 0, 0, 0, 0, 0, 0, 0, 0, 0, 0, 0, 0, 0, 0, 0, 0, 0, 0, 0, 0, 0, 0, 0, 0, 0, 0, 0, 0, 0, 0, 0, 0, 0, 0, 0, 0, 0, 0, 0, 0, 0, 0, 0, 0, 0, 0, 0, 0, 0, 0, 0, 0, 0, 0, 0, 0, 0, 0, 0, 0, 0, 0, 0, 0, 0, 0, 0, 0, 0, 0, 0, 0, 0, 0, 0, 0, 0, 0, 0]\n"
          ]
        }
      ]
    },
    {
      "cell_type": "code",
      "source": [
        "len(X_train),len(X_val)"
      ],
      "metadata": {
        "colab": {
          "base_uri": "https://localhost:8080/"
        },
        "id": "d2bs25fZish6",
        "outputId": "bb7548b8-c02f-4c38-acbd-fb2291b374d5"
      },
      "execution_count": 44,
      "outputs": [
        {
          "output_type": "execute_result",
          "data": {
            "text/plain": [
              "(800, 200)"
            ]
          },
          "metadata": {},
          "execution_count": 44
        }
      ]
    },
    {
      "cell_type": "code",
      "source": [
        "encodings_train = tokenizer(X_train, padding=True, truncation=True, max_length=512)['input_ids']\n"
      ],
      "metadata": {
        "id": "cM-skBbarTVX"
      },
      "execution_count": 45,
      "outputs": []
    },
    {
      "cell_type": "code",
      "source": [
        "encodings_train==X_train_tokenized['input_ids']"
      ],
      "metadata": {
        "colab": {
          "base_uri": "https://localhost:8080/"
        },
        "id": "AKxPEnowsAwe",
        "outputId": "575ddad3-2fc4-4757-a194-5bcc71e2c27b"
      },
      "execution_count": 46,
      "outputs": [
        {
          "output_type": "execute_result",
          "data": {
            "text/plain": [
              "True"
            ]
          },
          "metadata": {},
          "execution_count": 46
        }
      ]
    },
    {
      "cell_type": "markdown",
      "source": [
        "**If we are training model on custom Dataset , then we pass object of DataSet instead of passing direct embeddings**"
      ],
      "metadata": {
        "id": "BjAT6x2azXzS"
      }
    },
    {
      "cell_type": "markdown",
      "source": [
        "Resource https://huggingface.co/transformers/v3.2.0/custom_datasets.html"
      ],
      "metadata": {
        "id": "mlsuRQiDz_R3"
      }
    },
    {
      "cell_type": "code",
      "source": [
        "# Create torch dataset\n",
        "class Dataset(torch.utils.data.Dataset):\n",
        "    def __init__(self, encodings, labels=None):\n",
        "        self.encodings = encodings\n",
        "        self.labels = labels\n",
        "\n",
        "    def __getitem__(self, idx):\n",
        "        item = {key: torch.tensor(val[idx]) for key, val in self.encodings.items()}\n",
        "        if self.labels:\n",
        "            item[\"labels\"] = torch.tensor(self.labels[idx])\n",
        "        return item\n",
        "\n",
        "    def __len__(self):\n",
        "        return len(self.encodings[\"input_ids\"])"
      ],
      "metadata": {
        "id": "0Dq__AdmjiEh"
      },
      "execution_count": 47,
      "outputs": []
    },
    {
      "cell_type": "markdown",
      "source": [
        "**Object of Dataset is creating**"
      ],
      "metadata": {
        "id": "ZHWVLLdyzveF"
      }
    },
    {
      "cell_type": "code",
      "source": [
        "train_dataset = Dataset(X_train_tokenized, y_train)\n",
        "val_dataset = Dataset(X_val_tokenized, y_val)"
      ],
      "metadata": {
        "id": "52bjWWitkMRw"
      },
      "execution_count": 48,
      "outputs": []
    },
    {
      "cell_type": "code",
      "source": [
        "def compute_metrics(p):\n",
        "    print(type(p))\n",
        "    pred, labels = p\n",
        "    pred = np.argmax(pred, axis=1)\n",
        "\n",
        "    accuracy = accuracy_score(y_true=labels, y_pred=pred)\n",
        "    recall = recall_score(y_true=labels, y_pred=pred)\n",
        "    precision = precision_score(y_true=labels, y_pred=pred)\n",
        "    f1 = f1_score(y_true=labels, y_pred=pred)\n",
        "\n",
        "    return {\"accuracy\": accuracy, \"precision\": precision, \"recall\": recall, \"f1\": f1}"
      ],
      "metadata": {
        "id": "rSYfH_aIkOwf"
      },
      "execution_count": 50,
      "outputs": []
    },
    {
      "cell_type": "code",
      "source": [
        "!pip install accelerate -U"
      ],
      "metadata": {
        "colab": {
          "base_uri": "https://localhost:8080/"
        },
        "id": "_ZoEu2Y6sZI7",
        "outputId": "fa486c5e-bbdb-4279-8acd-c513285d78ff"
      },
      "execution_count": 51,
      "outputs": [
        {
          "output_type": "stream",
          "name": "stdout",
          "text": [
            "Requirement already satisfied: accelerate in /usr/local/lib/python3.10/dist-packages (0.21.0)\n",
            "Requirement already satisfied: numpy>=1.17 in /usr/local/lib/python3.10/dist-packages (from accelerate) (1.23.5)\n",
            "Requirement already satisfied: packaging>=20.0 in /usr/local/lib/python3.10/dist-packages (from accelerate) (23.1)\n",
            "Requirement already satisfied: psutil in /usr/local/lib/python3.10/dist-packages (from accelerate) (5.9.5)\n",
            "Requirement already satisfied: pyyaml in /usr/local/lib/python3.10/dist-packages (from accelerate) (6.0.1)\n",
            "Requirement already satisfied: torch>=1.10.0 in /usr/local/lib/python3.10/dist-packages (from accelerate) (2.0.1+cu118)\n",
            "Requirement already satisfied: filelock in /usr/local/lib/python3.10/dist-packages (from torch>=1.10.0->accelerate) (3.12.2)\n",
            "Requirement already satisfied: typing-extensions in /usr/local/lib/python3.10/dist-packages (from torch>=1.10.0->accelerate) (4.7.1)\n",
            "Requirement already satisfied: sympy in /usr/local/lib/python3.10/dist-packages (from torch>=1.10.0->accelerate) (1.11.1)\n",
            "Requirement already satisfied: networkx in /usr/local/lib/python3.10/dist-packages (from torch>=1.10.0->accelerate) (3.1)\n",
            "Requirement already satisfied: jinja2 in /usr/local/lib/python3.10/dist-packages (from torch>=1.10.0->accelerate) (3.1.2)\n",
            "Requirement already satisfied: triton==2.0.0 in /usr/local/lib/python3.10/dist-packages (from torch>=1.10.0->accelerate) (2.0.0)\n",
            "Requirement already satisfied: cmake in /usr/local/lib/python3.10/dist-packages (from triton==2.0.0->torch>=1.10.0->accelerate) (3.25.2)\n",
            "Requirement already satisfied: lit in /usr/local/lib/python3.10/dist-packages (from triton==2.0.0->torch>=1.10.0->accelerate) (16.0.6)\n",
            "Requirement already satisfied: MarkupSafe>=2.0 in /usr/local/lib/python3.10/dist-packages (from jinja2->torch>=1.10.0->accelerate) (2.1.3)\n",
            "Requirement already satisfied: mpmath>=0.19 in /usr/local/lib/python3.10/dist-packages (from sympy->torch>=1.10.0->accelerate) (1.3.0)\n"
          ]
        }
      ]
    },
    {
      "cell_type": "markdown",
      "source": [
        "![image.png](data:image/png;base64,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)"
      ],
      "metadata": {
        "id": "x_I_D8hQ0aaf"
      }
    },
    {
      "cell_type": "markdown",
      "source": [
        "**Trainer class will use for training model and will predict through this class**"
      ],
      "metadata": {
        "id": "4GnvMs0u2N9q"
      }
    },
    {
      "cell_type": "code",
      "source": [
        "# Define Trainer\n",
        "args = TrainingArguments(\n",
        "    output_dir=\"output\",\n",
        "    num_train_epochs=1,\n",
        "    per_device_train_batch_size=8\n",
        "\n",
        ")\n",
        "trainer = Trainer(\n",
        "    model=model,\n",
        "    args=args,\n",
        "    train_dataset=train_dataset,\n",
        "    eval_dataset=val_dataset,\n",
        "    compute_metrics=compute_metrics\n",
        ")"
      ],
      "metadata": {
        "id": "vFcXgFFNkRDP"
      },
      "execution_count": 52,
      "outputs": []
    },
    {
      "cell_type": "markdown",
      "source": [
        "**Training Model**"
      ],
      "metadata": {
        "id": "Euz7ArVP2XdG"
      }
    },
    {
      "cell_type": "code",
      "source": [
        "trainer.train()"
      ],
      "metadata": {
        "id": "topNq2I6kTnX"
      },
      "execution_count": 52,
      "outputs": []
    },
    {
      "cell_type": "markdown",
      "source": [
        "**Evaluating Model**"
      ],
      "metadata": {
        "id": "-odeSla52a9s"
      }
    },
    {
      "cell_type": "code",
      "source": [
        "trainer.evaluate()"
      ],
      "metadata": {
        "id": "Ia14Y_UmN7qM"
      },
      "execution_count": 52,
      "outputs": []
    },
    {
      "cell_type": "code",
      "source": [
        "np.set_printoptions(suppress=True)"
      ],
      "metadata": {
        "id": "KX1xAXjhqibr"
      },
      "execution_count": 52,
      "outputs": []
    },
    {
      "cell_type": "markdown",
      "source": [
        "**Testing new text**"
      ],
      "metadata": {
        "id": "gfPG3B6b2emh"
      }
    },
    {
      "cell_type": "code",
      "source": [
        "text = \"That was good point\"\n",
        "# text = \"go to hell\"\n",
        "inputs = tokenizer(text,padding = True, truncation = True, return_tensors='pt').to('cuda')\n",
        "outputs = model(**inputs)\n",
        "print(outputs)\n",
        "predictions = torch.nn.functional.softmax(outputs.logits, dim=-1)\n",
        "print(predictions)\n",
        "predictions = predictions.cpu().detach().numpy()\n",
        "predictions"
      ],
      "metadata": {
        "id": "AdVqrPN0kVLY"
      },
      "execution_count": 52,
      "outputs": []
    },
    {
      "cell_type": "markdown",
      "source": [
        "**Saving the model for creating Web App**"
      ],
      "metadata": {
        "id": "QITlhD1p2JJC"
      }
    },
    {
      "cell_type": "code",
      "source": [
        "trainer.save_model('CustomModel')"
      ],
      "metadata": {
        "id": "6zGTQP62MbAr"
      },
      "execution_count": null,
      "outputs": []
    },
    {
      "cell_type": "markdown",
      "source": [
        "**Loading the saved Model**"
      ],
      "metadata": {
        "id": "NR-lbmSU2oKY"
      }
    },
    {
      "cell_type": "code",
      "source": [
        "model_2 = BertForSequenceClassification.from_pretrained(\"CustomModel\")\n",
        "model_2.to('cuda')"
      ],
      "metadata": {
        "id": "zTu-SoK6MeVJ"
      },
      "execution_count": null,
      "outputs": []
    },
    {
      "cell_type": "markdown",
      "source": [
        "**Testing on new text after retrieving**"
      ],
      "metadata": {
        "id": "8q5KcS6z2wiz"
      }
    },
    {
      "cell_type": "code",
      "source": [
        "# text = \"That was good point\"\n",
        "text = \"go to hell\"\n",
        "inputs = tokenizer(text,padding = True, truncation = True, return_tensors='pt').to('cuda')\n",
        "outputs = model_2(**inputs)\n",
        "predictions = torch.nn.functional.softmax(outputs.logits, dim=-1)\n",
        "predictions = predictions.cpu().detach().numpy()\n",
        "predictions"
      ],
      "metadata": {
        "id": "v8dqYXZwM12Z"
      },
      "execution_count": null,
      "outputs": []
    }
  ]
}